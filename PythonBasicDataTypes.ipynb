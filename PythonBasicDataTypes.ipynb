{
  "nbformat": 4,
  "nbformat_minor": 0,
  "metadata": {
    "colab": {
      "name": "PythonBasicDataTypes.ipynb",
      "provenance": [],
      "authorship_tag": "ABX9TyNUh3xhqDaKgVacg9x84cLd",
      "include_colab_link": true
    },
    "kernelspec": {
      "name": "python3",
      "display_name": "Python 3"
    }
  },
  "cells": [
    {
      "cell_type": "markdown",
      "metadata": {
        "id": "view-in-github",
        "colab_type": "text"
      },
      "source": [
        "<a href=\"https://colab.research.google.com/github/Mugund-K/DL_Course/blob/main/PythonBasicDataTypes.ipynb\" target=\"_parent\"><img src=\"https://colab.research.google.com/assets/colab-badge.svg\" alt=\"Open In Colab\"/></a>"
      ]
    },
    {
      "cell_type": "code",
      "metadata": {
        "id": "1wY_IMNem9Vd"
      },
      "source": [
        "name = 'iPhone 6s'"
      ],
      "execution_count": 1,
      "outputs": []
    },
    {
      "cell_type": "code",
      "metadata": {
        "colab": {
          "base_uri": "https://localhost:8080/"
        },
        "id": "5ypqNmJgoL2J",
        "outputId": "9a33d772-dbc2-4cab-fb4c-e84418494f96"
      },
      "source": [
        "type(name)"
      ],
      "execution_count": 3,
      "outputs": [
        {
          "output_type": "execute_result",
          "data": {
            "text/plain": [
              "str"
            ]
          },
          "metadata": {
            "tags": []
          },
          "execution_count": 3
        }
      ]
    },
    {
      "cell_type": "code",
      "metadata": {
        "colab": {
          "base_uri": "https://localhost:8080/"
        },
        "id": "055yW8GEoO9Q",
        "outputId": "af36ac99-45ed-47bd-88da-21d6eaf482b0"
      },
      "source": [
        "print(name)"
      ],
      "execution_count": 4,
      "outputs": [
        {
          "output_type": "stream",
          "text": [
            "iPhone 6s\n"
          ],
          "name": "stdout"
        }
      ]
    },
    {
      "cell_type": "code",
      "metadata": {
        "id": "qBQcvirgoTZm"
      },
      "source": [
        "screen_size = 4.3"
      ],
      "execution_count": 5,
      "outputs": []
    },
    {
      "cell_type": "code",
      "metadata": {
        "colab": {
          "base_uri": "https://localhost:8080/"
        },
        "id": "FqqVJZMioWK-",
        "outputId": "76f5d24f-eafd-488a-b1d4-88b175bb9ad4"
      },
      "source": [
        "type(screen_size)"
      ],
      "execution_count": 6,
      "outputs": [
        {
          "output_type": "execute_result",
          "data": {
            "text/plain": [
              "float"
            ]
          },
          "metadata": {
            "tags": []
          },
          "execution_count": 6
        }
      ]
    },
    {
      "cell_type": "code",
      "metadata": {
        "colab": {
          "base_uri": "https://localhost:8080/"
        },
        "id": "4hglsC5HoYpv",
        "outputId": "27654bce-5634-4eb5-ae7e-3316b43c2920"
      },
      "source": [
        "num_of_speakers = 1\r\n",
        "type(num_of_speakers)"
      ],
      "execution_count": 7,
      "outputs": [
        {
          "output_type": "execute_result",
          "data": {
            "text/plain": [
              "int"
            ]
          },
          "metadata": {
            "tags": []
          },
          "execution_count": 7
        }
      ]
    },
    {
      "cell_type": "code",
      "metadata": {
        "colab": {
          "base_uri": "https://localhost:8080/"
        },
        "id": "FUBxA0oPomN3",
        "outputId": "99d7dc55-75e1-4e90-8dc8-77faf7cdc696"
      },
      "source": [
        "print('I just bhought an ' + name)"
      ],
      "execution_count": 8,
      "outputs": [
        {
          "output_type": "stream",
          "text": [
            "I just bhought an iPhone 6s\n"
          ],
          "name": "stdout"
        }
      ]
    },
    {
      "cell_type": "code",
      "metadata": {
        "colab": {
          "base_uri": "https://localhost:8080/"
        },
        "id": "JxGGNeF0oqHW",
        "outputId": "48c11c40-5659-493e-d373-c1baef5accec"
      },
      "source": [
        "a = 3\r\n",
        "b = 2\r\n",
        "print(a * b, a / b, a + b , a - b, a ** b, a // b)"
      ],
      "execution_count": 10,
      "outputs": [
        {
          "output_type": "stream",
          "text": [
            "6 1.5 5 1 9 1\n"
          ],
          "name": "stdout"
        }
      ]
    },
    {
      "cell_type": "code",
      "metadata": {
        "colab": {
          "base_uri": "https://localhost:8080/"
        },
        "id": "d2H_8Qzeo2NW",
        "outputId": "4d1d43cd-0480-4343-f90b-2913748c9b57"
      },
      "source": [
        "is_android = False\r\n",
        "type(is_android)"
      ],
      "execution_count": 11,
      "outputs": [
        {
          "output_type": "execute_result",
          "data": {
            "text/plain": [
              "bool"
            ]
          },
          "metadata": {
            "tags": []
          },
          "execution_count": 11
        }
      ]
    },
    {
      "cell_type": "code",
      "metadata": {
        "colab": {
          "base_uri": "https://localhost:8080/"
        },
        "id": "ZwN83qXvoxbf",
        "outputId": "d6e6f1ee-34e4-414c-973d-7776bce6ddf3"
      },
      "source": [
        "print(is_android == False)"
      ],
      "execution_count": 12,
      "outputs": [
        {
          "output_type": "stream",
          "text": [
            "True\n"
          ],
          "name": "stdout"
        }
      ]
    },
    {
      "cell_type": "code",
      "metadata": {
        "colab": {
          "base_uri": "https://localhost:8080/"
        },
        "id": "pwNMyd_CpBLn",
        "outputId": "6c3f7050-c4f7-4207-edc9-465bcfc16b91"
      },
      "source": [
        "print(is_android == False and num_of_speakers > 1)"
      ],
      "execution_count": 13,
      "outputs": [
        {
          "output_type": "stream",
          "text": [
            "False\n"
          ],
          "name": "stdout"
        }
      ]
    },
    {
      "cell_type": "code",
      "metadata": {
        "colab": {
          "base_uri": "https://localhost:8080/"
        },
        "id": "_923d5rEpI02",
        "outputId": "0b200aa9-0274-4010-bf96-fbe3cd1dc83b"
      },
      "source": [
        "if is_android == True:\r\n",
        "  print(name + ' support Android')\r\n",
        "print('Printing this outside')"
      ],
      "execution_count": 15,
      "outputs": [
        {
          "output_type": "stream",
          "text": [
            "Printing this outside\n"
          ],
          "name": "stdout"
        }
      ]
    },
    {
      "cell_type": "code",
      "metadata": {
        "colab": {
          "base_uri": "https://localhost:8080/"
        },
        "id": "sPf6p6OgpVP-",
        "outputId": "128a9906-66a9-4dae-fc87-1d9d1777113c"
      },
      "source": [
        "for i in range(5):\r\n",
        "  print(i , i ** 2)"
      ],
      "execution_count": 16,
      "outputs": [
        {
          "output_type": "stream",
          "text": [
            "0 0\n",
            "1 1\n",
            "2 4\n",
            "3 9\n",
            "4 16\n"
          ],
          "name": "stdout"
        }
      ]
    },
    {
      "cell_type": "code",
      "metadata": {
        "id": "SnLhHKmVpgxG"
      },
      "source": [
        "range?"
      ],
      "execution_count": 17,
      "outputs": []
    },
    {
      "cell_type": "code",
      "metadata": {
        "colab": {
          "base_uri": "https://localhost:8080/"
        },
        "id": "UCKqIkZtpt1v",
        "outputId": "6b422908-fa92-4776-e770-733c7129633b"
      },
      "source": [
        "i = 0\r\n",
        "while i < 5:\r\n",
        "  print(i, i ** 2)\r\n",
        "  i += 1"
      ],
      "execution_count": 19,
      "outputs": [
        {
          "output_type": "stream",
          "text": [
            "0 0\n",
            "1 1\n",
            "2 4\n",
            "3 9\n",
            "4 16\n"
          ],
          "name": "stdout"
        }
      ]
    },
    {
      "cell_type": "code",
      "metadata": {
        "id": "4DyEq3crqARR"
      },
      "source": [
        "def print_squares(stop_val):\r\n",
        "  for i in range(stop_val):\r\n",
        "    print(i, i ** 2)"
      ],
      "execution_count": 20,
      "outputs": []
    },
    {
      "cell_type": "code",
      "metadata": {
        "colab": {
          "base_uri": "https://localhost:8080/"
        },
        "id": "MIrDO8ODqLfC",
        "outputId": "1f0f403f-4dee-4727-dfc8-455d8ca7491f"
      },
      "source": [
        "print_squares(3)"
      ],
      "execution_count": 21,
      "outputs": [
        {
          "output_type": "stream",
          "text": [
            "0 0\n",
            "1 1\n",
            "2 4\n"
          ],
          "name": "stdout"
        }
      ]
    },
    {
      "cell_type": "code",
      "metadata": {
        "id": "Dr6SK7faqOpD"
      },
      "source": [
        "def sum_of_squares(stop_val):\r\n",
        "  sum_ = 0\r\n",
        "  for i in range(stop_val):\r\n",
        "    sum_ += i ** 2\r\n",
        "  return sum_\r\n"
      ],
      "execution_count": 22,
      "outputs": []
    },
    {
      "cell_type": "code",
      "metadata": {
        "colab": {
          "base_uri": "https://localhost:8080/"
        },
        "id": "qFbRJ4onqeix",
        "outputId": "da2efe63-93d9-40b3-daab-ad8a2860b26b"
      },
      "source": [
        "sum_5 = sum_of_squares(5)\r\n",
        "print(sum_5)"
      ],
      "execution_count": 23,
      "outputs": [
        {
          "output_type": "stream",
          "text": [
            "30\n"
          ],
          "name": "stdout"
        }
      ]
    },
    {
      "cell_type": "code",
      "metadata": {
        "id": "UB2TiVkqqkCS"
      },
      "source": [
        "def print_squares_with_startval(stop_val, start_val=0):\r\n",
        "  \"\"\" Print the squares of numbers start from start_val and end with stop_val\"\"\"\r\n",
        "  for i in range(start_val,stop_val):\r\n",
        "    print(i, i ** 2)"
      ],
      "execution_count": 27,
      "outputs": []
    },
    {
      "cell_type": "code",
      "metadata": {
        "colab": {
          "base_uri": "https://localhost:8080/"
        },
        "id": "-PNAS7Etq2c0",
        "outputId": "b360ce32-1968-4236-da64-067d8ee4aba2"
      },
      "source": [
        "print_squares_with_startval(5)"
      ],
      "execution_count": 25,
      "outputs": [
        {
          "output_type": "stream",
          "text": [
            "0 0\n",
            "1 1\n",
            "2 4\n",
            "3 9\n",
            "4 16\n"
          ],
          "name": "stdout"
        }
      ]
    },
    {
      "cell_type": "code",
      "metadata": {
        "colab": {
          "base_uri": "https://localhost:8080/"
        },
        "id": "O7nzgWZyq3yV",
        "outputId": "82ec188f-6e50-406d-d518-92f044b7eb91"
      },
      "source": [
        "print_squares_with_startval(5,2)"
      ],
      "execution_count": 26,
      "outputs": [
        {
          "output_type": "stream",
          "text": [
            "2 4\n",
            "3 9\n",
            "4 16\n"
          ],
          "name": "stdout"
        }
      ]
    },
    {
      "cell_type": "code",
      "metadata": {
        "id": "sG6YJen0q5tc"
      },
      "source": [
        "print_squares_with_startval?"
      ],
      "execution_count": 28,
      "outputs": []
    },
    {
      "cell_type": "code",
      "metadata": {
        "colab": {
          "base_uri": "https://localhost:8080/"
        },
        "id": "cNwBwJ6CrJa9",
        "outputId": "a1b615b1-5f7b-4ed2-87eb-8bdfda183563"
      },
      "source": [
        "help(print_squares_with_startval)"
      ],
      "execution_count": 29,
      "outputs": [
        {
          "output_type": "stream",
          "text": [
            "Help on function print_squares_with_startval in module __main__:\n",
            "\n",
            "print_squares_with_startval(stop_val, start_val=0)\n",
            "    Print the squares of numbers start from start_val and end with stop_val\n",
            "\n"
          ],
          "name": "stdout"
        }
      ]
    },
    {
      "cell_type": "code",
      "metadata": {
        "id": "ENmesirDrLy0"
      },
      "source": [
        ""
      ],
      "execution_count": null,
      "outputs": []
    },
    {
      "cell_type": "code",
      "metadata": {
        "id": "kbgLoVyFp-IH"
      },
      "source": [
        ""
      ],
      "execution_count": null,
      "outputs": []
    }
  ]
}