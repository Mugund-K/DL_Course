{
  "nbformat": 4,
  "nbformat_minor": 0,
  "metadata": {
    "colab": {
      "name": "Tuple Set and dictionaries.ipynb",
      "provenance": [],
      "authorship_tag": "ABX9TyMM43EXAoIhHbBM38yZ+fpV",
      "include_colab_link": true
    },
    "kernelspec": {
      "name": "python3",
      "display_name": "Python 3"
    }
  },
  "cells": [
    {
      "cell_type": "markdown",
      "metadata": {
        "id": "view-in-github",
        "colab_type": "text"
      },
      "source": [
        "<a href=\"https://colab.research.google.com/github/Mugund-K/DL_Course/blob/main/Tuple_Set_and_dictionaries.ipynb\" target=\"_parent\"><img src=\"https://colab.research.google.com/assets/colab-badge.svg\" alt=\"Open In Colab\"/></a>"
      ]
    },
    {
      "cell_type": "code",
      "metadata": {
        "id": "tOj5H5P7vGbg"
      },
      "source": [
        "my_phone = ['iPhone 6s', False, 5.5, '3G', 'single_sim', 35000]"
      ],
      "execution_count": 1,
      "outputs": []
    },
    {
      "cell_type": "code",
      "metadata": {
        "colab": {
          "base_uri": "https://localhost:8080/"
        },
        "id": "koBSmhzuvTDl",
        "outputId": "e9b1976b-e8a1-4cc6-a31b-c5a0352090db"
      },
      "source": [
        "type(my_phone)"
      ],
      "execution_count": 2,
      "outputs": [
        {
          "output_type": "execute_result",
          "data": {
            "text/plain": [
              "list"
            ]
          },
          "metadata": {
            "tags": []
          },
          "execution_count": 2
        }
      ]
    },
    {
      "cell_type": "code",
      "metadata": {
        "id": "GALyWWwbwxjz"
      },
      "source": [
        "my_phone_tuple = ('iPhone 5s', False, 4.3)"
      ],
      "execution_count": 3,
      "outputs": []
    },
    {
      "cell_type": "code",
      "metadata": {
        "colab": {
          "base_uri": "https://localhost:8080/"
        },
        "id": "0Kl724yuw517",
        "outputId": "1ac41216-6b78-402d-a013-00b70291e056"
      },
      "source": [
        "my_phone_tuple"
      ],
      "execution_count": 4,
      "outputs": [
        {
          "output_type": "execute_result",
          "data": {
            "text/plain": [
              "('iPhone 5s', False, 4.3)"
            ]
          },
          "metadata": {
            "tags": []
          },
          "execution_count": 4
        }
      ]
    },
    {
      "cell_type": "code",
      "metadata": {
        "colab": {
          "base_uri": "https://localhost:8080/"
        },
        "id": "owadmD5Pw7pi",
        "outputId": "3e774d95-34fa-46a3-9eca-7304bc69b146"
      },
      "source": [
        "my_phone"
      ],
      "execution_count": 5,
      "outputs": [
        {
          "output_type": "execute_result",
          "data": {
            "text/plain": [
              "['iPhone 6s', False, 5.5, '3G', 'single_sim', 35000]"
            ]
          },
          "metadata": {
            "tags": []
          },
          "execution_count": 5
        }
      ]
    },
    {
      "cell_type": "code",
      "metadata": {
        "colab": {
          "base_uri": "https://localhost:8080/"
        },
        "id": "G8QzsAnJw9tz",
        "outputId": "92ea13b0-8dc4-4cb1-e3a2-62c8a8fc9ea5"
      },
      "source": [
        "type(my_phone_tuple)"
      ],
      "execution_count": 6,
      "outputs": [
        {
          "output_type": "execute_result",
          "data": {
            "text/plain": [
              "tuple"
            ]
          },
          "metadata": {
            "tags": []
          },
          "execution_count": 6
        }
      ]
    },
    {
      "cell_type": "code",
      "metadata": {
        "colab": {
          "base_uri": "https://localhost:8080/",
          "height": 35
        },
        "id": "i2RatEF8xBEW",
        "outputId": "65372679-60c5-4a41-8bf5-87d4f3daa610"
      },
      "source": [
        "my_phone_tuple[0]"
      ],
      "execution_count": 7,
      "outputs": [
        {
          "output_type": "execute_result",
          "data": {
            "application/vnd.google.colaboratory.intrinsic+json": {
              "type": "string"
            },
            "text/plain": [
              "'iPhone 5s'"
            ]
          },
          "metadata": {
            "tags": []
          },
          "execution_count": 7
        }
      ]
    },
    {
      "cell_type": "code",
      "metadata": {
        "colab": {
          "base_uri": "https://localhost:8080/"
        },
        "id": "AxKl_50axJPK",
        "outputId": "3e52ba94-bf8c-42c0-e440-aee9b7f6e85a"
      },
      "source": [
        "my_phone_tuple[0:2]"
      ],
      "execution_count": 8,
      "outputs": [
        {
          "output_type": "execute_result",
          "data": {
            "text/plain": [
              "('iPhone 5s', False)"
            ]
          },
          "metadata": {
            "tags": []
          },
          "execution_count": 8
        }
      ]
    },
    {
      "cell_type": "code",
      "metadata": {
        "colab": {
          "base_uri": "https://localhost:8080/"
        },
        "id": "Chv-1c5axLsi",
        "outputId": "265b1a8b-b1b3-483c-8988-ef498b59064e"
      },
      "source": [
        "for data in my_phone_tuple:\r\n",
        "  print(data)"
      ],
      "execution_count": 9,
      "outputs": [
        {
          "output_type": "stream",
          "text": [
            "iPhone 5s\n",
            "False\n",
            "4.3\n"
          ],
          "name": "stdout"
        }
      ]
    },
    {
      "cell_type": "code",
      "metadata": {
        "colab": {
          "base_uri": "https://localhost:8080/",
          "height": 163
        },
        "id": "7RiminE6xOpK",
        "outputId": "e91e89ce-24ad-4fa3-ec98-ba3b7a764582"
      },
      "source": [
        "my_phone_tuple[3] = 4"
      ],
      "execution_count": 10,
      "outputs": [
        {
          "output_type": "error",
          "ename": "TypeError",
          "evalue": "ignored",
          "traceback": [
            "\u001b[0;31m---------------------------------------------------------------------------\u001b[0m",
            "\u001b[0;31mTypeError\u001b[0m                                 Traceback (most recent call last)",
            "\u001b[0;32m<ipython-input-10-542700d4f6ee>\u001b[0m in \u001b[0;36m<module>\u001b[0;34m()\u001b[0m\n\u001b[0;32m----> 1\u001b[0;31m \u001b[0mmy_phone_tuple\u001b[0m\u001b[0;34m[\u001b[0m\u001b[0;36m3\u001b[0m\u001b[0;34m]\u001b[0m \u001b[0;34m=\u001b[0m \u001b[0;36m4\u001b[0m\u001b[0;34m\u001b[0m\u001b[0;34m\u001b[0m\u001b[0m\n\u001b[0m",
            "\u001b[0;31mTypeError\u001b[0m: 'tuple' object does not support item assignment"
          ]
        }
      ]
    },
    {
      "cell_type": "code",
      "metadata": {
        "id": "ntmWKb2-xRWS"
      },
      "source": [
        "#So Typle is immutable data type"
      ],
      "execution_count": 11,
      "outputs": []
    },
    {
      "cell_type": "code",
      "metadata": {
        "id": "AstTAoo2xbSb"
      },
      "source": [
        "import time"
      ],
      "execution_count": 12,
      "outputs": []
    },
    {
      "cell_type": "code",
      "metadata": {
        "colab": {
          "base_uri": "https://localhost:8080/"
        },
        "id": "2ZUpRdpayRsl",
        "outputId": "58b04d90-c989-440b-e4fa-15b466ef949f"
      },
      "source": [
        "tic = time.time()\r\n",
        "tic"
      ],
      "execution_count": 13,
      "outputs": [
        {
          "output_type": "execute_result",
          "data": {
            "text/plain": [
              "1613461284.0808809"
            ]
          },
          "metadata": {
            "tags": []
          },
          "execution_count": 13
        }
      ]
    },
    {
      "cell_type": "code",
      "metadata": {
        "colab": {
          "base_uri": "https://localhost:8080/"
        },
        "id": "QukdKRnsyWKl",
        "outputId": "44fb6945-1e88-4dce-ebd1-b03acf98f4ee"
      },
      "source": [
        "toc = time.time()\r\n",
        "toc"
      ],
      "execution_count": 14,
      "outputs": [
        {
          "output_type": "execute_result",
          "data": {
            "text/plain": [
              "1613461326.4399529"
            ]
          },
          "metadata": {
            "tags": []
          },
          "execution_count": 14
        }
      ]
    },
    {
      "cell_type": "code",
      "metadata": {
        "colab": {
          "base_uri": "https://localhost:8080/"
        },
        "id": "oz5bX6GVygim",
        "outputId": "5512d800-2a96-4c3c-e06d-ada8544a880d"
      },
      "source": [
        "print('Elapsed time in seconds', tic-toc)"
      ],
      "execution_count": 15,
      "outputs": [
        {
          "output_type": "stream",
          "text": [
            "Elapsed time in seconds -42.35907196998596\n"
          ],
          "name": "stdout"
        }
      ]
    },
    {
      "cell_type": "code",
      "metadata": {
        "colab": {
          "base_uri": "https://localhost:8080/"
        },
        "id": "26o3TRsDymSm",
        "outputId": "1ed7a78c-4694-4450-b402-827e526edd86"
      },
      "source": [
        "my_list = list(range(1000000))\r\n",
        "tic = time.time()\r\n",
        "my_list_squared = map(lambda i: i ** 2, my_list)\r\n",
        "toc = time.time()\r\n",
        "print('Elasped time in seconds', toc - tic)"
      ],
      "execution_count": 20,
      "outputs": [
        {
          "output_type": "stream",
          "text": [
            "Elasped time in seconds 0.010795116424560547\n"
          ],
          "name": "stdout"
        }
      ]
    },
    {
      "cell_type": "code",
      "metadata": {
        "colab": {
          "base_uri": "https://localhost:8080/"
        },
        "id": "7pVNPSryzHJu",
        "outputId": "1e2eea39-2c34-4190-ad4b-46b0fd2a1da8"
      },
      "source": [
        "my_tuple = tuple(range(1000000))\r\n",
        "tic = time.time()\r\n",
        "my_tuple_squared = map(lambda i: i ** 2, my_tuple)\r\n",
        "toc = time.time()\r\n",
        "print('Elasped time in seconds', toc - tic)"
      ],
      "execution_count": 19,
      "outputs": [
        {
          "output_type": "stream",
          "text": [
            "Elasped time in seconds 0.012179136276245117\n"
          ],
          "name": "stdout"
        }
      ]
    },
    {
      "cell_type": "code",
      "metadata": {
        "id": "_rueEx0_0Aoc"
      },
      "source": [
        "#since list is mutable , operations will be slower"
      ],
      "execution_count": 21,
      "outputs": []
    },
    {
      "cell_type": "code",
      "metadata": {
        "id": "E5FOe0Zh0Lob"
      },
      "source": [
        "#sets"
      ],
      "execution_count": 22,
      "outputs": []
    },
    {
      "cell_type": "code",
      "metadata": {
        "id": "eqLSnmkS0UIT"
      },
      "source": [
        "my_set = set(my_phone)"
      ],
      "execution_count": 23,
      "outputs": []
    },
    {
      "cell_type": "code",
      "metadata": {
        "colab": {
          "base_uri": "https://localhost:8080/"
        },
        "id": "4Z_5sD1C0XT7",
        "outputId": "3bf0f17c-67f9-4209-a099-fce2700b87fd"
      },
      "source": [
        "my_set"
      ],
      "execution_count": 24,
      "outputs": [
        {
          "output_type": "execute_result",
          "data": {
            "text/plain": [
              "{35000, '3G', 5.5, False, 'iPhone 6s', 'single_sim'}"
            ]
          },
          "metadata": {
            "tags": []
          },
          "execution_count": 24
        }
      ]
    },
    {
      "cell_type": "code",
      "metadata": {
        "id": "BM6GUKSU0YwL"
      },
      "source": [
        "#Curly Brases for Sets\r\n",
        "#Square brackets for lists\r\n",
        "#Paranthesis for tuple"
      ],
      "execution_count": 25,
      "outputs": []
    },
    {
      "cell_type": "code",
      "metadata": {
        "colab": {
          "base_uri": "https://localhost:8080/"
        },
        "id": "8jcrOJgy0g30",
        "outputId": "15582467-97dd-4457-f73e-d90f9f2b66e5"
      },
      "source": [
        "type(my_set)"
      ],
      "execution_count": 26,
      "outputs": [
        {
          "output_type": "execute_result",
          "data": {
            "text/plain": [
              "set"
            ]
          },
          "metadata": {
            "tags": []
          },
          "execution_count": 26
        }
      ]
    },
    {
      "cell_type": "code",
      "metadata": {
        "id": "_KnRDkw60jXk"
      },
      "source": [
        "my_phone.append(5.5)"
      ],
      "execution_count": 27,
      "outputs": []
    },
    {
      "cell_type": "code",
      "metadata": {
        "id": "mrSaRTxl0vIb"
      },
      "source": [
        "my_set = set(my_phone)"
      ],
      "execution_count": 28,
      "outputs": []
    },
    {
      "cell_type": "code",
      "metadata": {
        "colab": {
          "base_uri": "https://localhost:8080/"
        },
        "id": "I-VDwbqA0yK8",
        "outputId": "aef5c9e3-8a67-4ac9-8fae-a779d588fc54"
      },
      "source": [
        "my_set\r\n"
      ],
      "execution_count": 29,
      "outputs": [
        {
          "output_type": "execute_result",
          "data": {
            "text/plain": [
              "{35000, '3G', 5.5, False, 'iPhone 6s', 'single_sim'}"
            ]
          },
          "metadata": {
            "tags": []
          },
          "execution_count": 29
        }
      ]
    },
    {
      "cell_type": "code",
      "metadata": {
        "colab": {
          "base_uri": "https://localhost:8080/"
        },
        "id": "mz-ciw490zd1",
        "outputId": "3f21efa1-1f0f-4013-ad82-9854a2b1418e"
      },
      "source": [
        "my_phone"
      ],
      "execution_count": 30,
      "outputs": [
        {
          "output_type": "execute_result",
          "data": {
            "text/plain": [
              "['iPhone 6s', False, 5.5, '3G', 'single_sim', 35000, 5.5]"
            ]
          },
          "metadata": {
            "tags": []
          },
          "execution_count": 30
        }
      ]
    },
    {
      "cell_type": "code",
      "metadata": {
        "colab": {
          "base_uri": "https://localhost:8080/"
        },
        "id": "ap7B54_V004E",
        "outputId": "18de079e-887e-4fad-d1a2-c536563ecaaa"
      },
      "source": [
        "my_list = list(range(1000000))\r\n",
        "tic = time.time()\r\n",
        "print(98731 in my_list)\r\n",
        "print(18231 in my_list)\r\n",
        "print(111231211 in my_list)\r\n",
        "toc =time.time()\r\n",
        "print('Elasped time ', toc - tic)\r\n"
      ],
      "execution_count": 31,
      "outputs": [
        {
          "output_type": "stream",
          "text": [
            "True\n",
            "True\n",
            "False\n",
            "Elasped time  0.01368570327758789\n"
          ],
          "name": "stdout"
        }
      ]
    },
    {
      "cell_type": "code",
      "metadata": {
        "colab": {
          "base_uri": "https://localhost:8080/"
        },
        "id": "pZi-fmFg1K9I",
        "outputId": "d04f7a5a-331b-46e6-da32-b2a3d33bf8a1"
      },
      "source": [
        "my_set = set(range(1000000))\r\n",
        "tic = time.time()\r\n",
        "print(98731 in my_set)\r\n",
        "print(18231 in my_set)\r\n",
        "print(111231211 in my_set)\r\n",
        "toc =time.time()\r\n",
        "print('Elasped time ', toc - tic)"
      ],
      "execution_count": 32,
      "outputs": [
        {
          "output_type": "stream",
          "text": [
            "True\n",
            "True\n",
            "False\n",
            "Elasped time  0.00024247169494628906\n"
          ],
          "name": "stdout"
        }
      ]
    },
    {
      "cell_type": "code",
      "metadata": {
        "id": "P3JYuqVc1Qs3"
      },
      "source": [
        "# dictionaries"
      ],
      "execution_count": 33,
      "outputs": []
    },
    {
      "cell_type": "code",
      "metadata": {
        "id": "JV-tnh1H1brd"
      },
      "source": [
        "my_phone_dict = {}\r\n"
      ],
      "execution_count": 34,
      "outputs": []
    },
    {
      "cell_type": "code",
      "metadata": {
        "colab": {
          "base_uri": "https://localhost:8080/"
        },
        "id": "T4jhYALx1ecG",
        "outputId": "886dbcf7-155d-4e76-8c73-ea0fdcba8b1f"
      },
      "source": [
        "type(my_phone_dict)"
      ],
      "execution_count": 35,
      "outputs": [
        {
          "output_type": "execute_result",
          "data": {
            "text/plain": [
              "dict"
            ]
          },
          "metadata": {
            "tags": []
          },
          "execution_count": 35
        }
      ]
    },
    {
      "cell_type": "code",
      "metadata": {
        "id": "w4-ryLiK1gYv"
      },
      "source": [
        "my_phone_dict['name'] = 'iPhone 5s'\r\n",
        "my_phone_dict['isAndroid'] = False\r\n",
        "my_phone_dict['screenSize'] = 4.3"
      ],
      "execution_count": 36,
      "outputs": []
    },
    {
      "cell_type": "code",
      "metadata": {
        "colab": {
          "base_uri": "https://localhost:8080/"
        },
        "id": "BFoByKr_1uTn",
        "outputId": "c86adfa6-7a0b-4422-abda-71e2e38df6d7"
      },
      "source": [
        "my_phone_dict"
      ],
      "execution_count": 37,
      "outputs": [
        {
          "output_type": "execute_result",
          "data": {
            "text/plain": [
              "{'isAndroid': False, 'name': 'iPhone 5s', 'screenSize': 4.3}"
            ]
          },
          "metadata": {
            "tags": []
          },
          "execution_count": 37
        }
      ]
    },
    {
      "cell_type": "code",
      "metadata": {
        "colab": {
          "base_uri": "https://localhost:8080/"
        },
        "id": "PV8Ku9iC1wGl",
        "outputId": "b1d36d15-ce38-4372-c136-ef8c1791e62f"
      },
      "source": [
        "my_phone_dict.keys()"
      ],
      "execution_count": 38,
      "outputs": [
        {
          "output_type": "execute_result",
          "data": {
            "text/plain": [
              "dict_keys(['name', 'isAndroid', 'screenSize'])"
            ]
          },
          "metadata": {
            "tags": []
          },
          "execution_count": 38
        }
      ]
    },
    {
      "cell_type": "code",
      "metadata": {
        "colab": {
          "base_uri": "https://localhost:8080/"
        },
        "id": "8SSSnU5k11be",
        "outputId": "375c41de-24e0-4492-dae7-46e02c3c25da"
      },
      "source": [
        "my_phone_dict.values()"
      ],
      "execution_count": 39,
      "outputs": [
        {
          "output_type": "execute_result",
          "data": {
            "text/plain": [
              "dict_values(['iPhone 5s', False, 4.3])"
            ]
          },
          "metadata": {
            "tags": []
          },
          "execution_count": 39
        }
      ]
    },
    {
      "cell_type": "code",
      "metadata": {
        "colab": {
          "base_uri": "https://localhost:8080/"
        },
        "id": "XkJTrC0H13tm",
        "outputId": "e0d15014-cf93-4382-dcda-1f8bc52737a0"
      },
      "source": [
        "my_phone_dict.items()"
      ],
      "execution_count": 40,
      "outputs": [
        {
          "output_type": "execute_result",
          "data": {
            "text/plain": [
              "dict_items([('name', 'iPhone 5s'), ('isAndroid', False), ('screenSize', 4.3)])"
            ]
          },
          "metadata": {
            "tags": []
          },
          "execution_count": 40
        }
      ]
    },
    {
      "cell_type": "code",
      "metadata": {
        "colab": {
          "base_uri": "https://localhost:8080/"
        },
        "id": "F9A4bM0i15tP",
        "outputId": "bc9c4c04-f30b-484d-be01-14620fcbf5f3"
      },
      "source": [
        "for key in my_phone_dict.keys():\r\n",
        "  print(key, ' : ',  my_phone_dict[key])"
      ],
      "execution_count": 43,
      "outputs": [
        {
          "output_type": "stream",
          "text": [
            "name  :  iPhone 5s\n",
            "isAndroid  :  False\n",
            "screenSize  :  4.3\n"
          ],
          "name": "stdout"
        }
      ]
    },
    {
      "cell_type": "code",
      "metadata": {
        "id": "IEr3tXbo2I8Z"
      },
      "source": [
        ""
      ],
      "execution_count": null,
      "outputs": []
    },
    {
      "cell_type": "code",
      "metadata": {
        "id": "5QKls1qr2FKx"
      },
      "source": [
        ""
      ],
      "execution_count": null,
      "outputs": []
    },
    {
      "cell_type": "code",
      "metadata": {
        "id": "Ypv7oukV2AaY"
      },
      "source": [
        ""
      ],
      "execution_count": null,
      "outputs": []
    }
  ]
}