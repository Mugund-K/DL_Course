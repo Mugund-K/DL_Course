{
  "nbformat": 4,
  "nbformat_minor": 0,
  "metadata": {
    "colab": {
      "name": "numpy.ipynb",
      "provenance": [],
      "authorship_tag": "ABX9TyNC9gZ2frsL2hCT4smC6crN",
      "include_colab_link": true
    },
    "kernelspec": {
      "name": "python3",
      "display_name": "Python 3"
    }
  },
  "cells": [
    {
      "cell_type": "markdown",
      "metadata": {
        "id": "view-in-github",
        "colab_type": "text"
      },
      "source": [
        "<a href=\"https://colab.research.google.com/github/Mugund-K/DL_Course/blob/main/numpy.ipynb\" target=\"_parent\"><img src=\"https://colab.research.google.com/assets/colab-badge.svg\" alt=\"Open In Colab\"/></a>"
      ]
    },
    {
      "cell_type": "code",
      "metadata": {
        "id": "q6El62ThN9Sv"
      },
      "source": [
        "import numpy as np"
      ],
      "execution_count": 1,
      "outputs": []
    },
    {
      "cell_type": "code",
      "metadata": {
        "id": "Ti0gcgBMOABx"
      },
      "source": [
        "X = np.array([1, 2, 3])"
      ],
      "execution_count": 2,
      "outputs": []
    },
    {
      "cell_type": "code",
      "metadata": {
        "colab": {
          "base_uri": "https://localhost:8080/"
        },
        "id": "mVGqXv2oODFn",
        "outputId": "721547e3-e650-4cdb-aef4-21994f642705"
      },
      "source": [
        "X"
      ],
      "execution_count": 3,
      "outputs": [
        {
          "output_type": "execute_result",
          "data": {
            "text/plain": [
              "array([1, 2, 3])"
            ]
          },
          "metadata": {
            "tags": []
          },
          "execution_count": 3
        }
      ]
    },
    {
      "cell_type": "code",
      "metadata": {
        "colab": {
          "base_uri": "https://localhost:8080/"
        },
        "id": "hE5xqpgEODeP",
        "outputId": "f800ff78-cd30-4054-9349-4c2524d8efc8"
      },
      "source": [
        "type(X)"
      ],
      "execution_count": 4,
      "outputs": [
        {
          "output_type": "execute_result",
          "data": {
            "text/plain": [
              "numpy.ndarray"
            ]
          },
          "metadata": {
            "tags": []
          },
          "execution_count": 4
        }
      ]
    },
    {
      "cell_type": "code",
      "metadata": {
        "colab": {
          "base_uri": "https://localhost:8080/"
        },
        "id": "g_ckwD-oOF5O",
        "outputId": "856d0b78-824e-434a-9c1c-9ce70ff5e0ab"
      },
      "source": [
        "l = [ 4, 5, 6 ]\r\n",
        "X = np.asarray(l)\r\n",
        "type(X)"
      ],
      "execution_count": 5,
      "outputs": [
        {
          "output_type": "execute_result",
          "data": {
            "text/plain": [
              "numpy.ndarray"
            ]
          },
          "metadata": {
            "tags": []
          },
          "execution_count": 5
        }
      ]
    },
    {
      "cell_type": "code",
      "metadata": {
        "colab": {
          "base_uri": "https://localhost:8080/"
        },
        "id": "k7YcWU61OOGf",
        "outputId": "b90906de-ff5b-40d2-fb83-9c94bc423885"
      },
      "source": [
        "X.shape"
      ],
      "execution_count": 6,
      "outputs": [
        {
          "output_type": "execute_result",
          "data": {
            "text/plain": [
              "(3,)"
            ]
          },
          "metadata": {
            "tags": []
          },
          "execution_count": 6
        }
      ]
    },
    {
      "cell_type": "code",
      "metadata": {
        "colab": {
          "base_uri": "https://localhost:8080/"
        },
        "id": "uLjH9kjEOdv3",
        "outputId": "5e4aa57c-9902-4b90-fe61-6c0f7612deeb"
      },
      "source": [
        "print(X)"
      ],
      "execution_count": 7,
      "outputs": [
        {
          "output_type": "stream",
          "text": [
            "[4 5 6]\n"
          ],
          "name": "stdout"
        }
      ]
    },
    {
      "cell_type": "code",
      "metadata": {
        "colab": {
          "base_uri": "https://localhost:8080/"
        },
        "id": "Bc3p4n0pPoZu",
        "outputId": "01653b06-a6a2-4df0-b73b-31d7ade2f7e4"
      },
      "source": [
        "X = np.asarray(l, float)\r\n",
        "print(X)"
      ],
      "execution_count": 8,
      "outputs": [
        {
          "output_type": "stream",
          "text": [
            "[4. 5. 6.]\n"
          ],
          "name": "stdout"
        }
      ]
    },
    {
      "cell_type": "code",
      "metadata": {
        "colab": {
          "base_uri": "https://localhost:8080/"
        },
        "id": "WIKwIfWTPtaY",
        "outputId": "8954f961-d525-479d-84a7-10a9d71119f0"
      },
      "source": [
        "X.shape"
      ],
      "execution_count": 9,
      "outputs": [
        {
          "output_type": "execute_result",
          "data": {
            "text/plain": [
              "(3,)"
            ]
          },
          "metadata": {
            "tags": []
          },
          "execution_count": 9
        }
      ]
    },
    {
      "cell_type": "code",
      "metadata": {
        "colab": {
          "base_uri": "https://localhost:8080/"
        },
        "id": "5Qc9FeLAPu_I",
        "outputId": "2b6069d7-0f1c-4834-a92a-592891ffd145"
      },
      "source": [
        "X = np.array([[1,2,3],[4,5,6]])\r\n",
        "print(X)"
      ],
      "execution_count": 10,
      "outputs": [
        {
          "output_type": "stream",
          "text": [
            "[[1 2 3]\n",
            " [4 5 6]]\n"
          ],
          "name": "stdout"
        }
      ]
    },
    {
      "cell_type": "code",
      "metadata": {
        "colab": {
          "base_uri": "https://localhost:8080/"
        },
        "id": "U7RHvpZWQH24",
        "outputId": "7bd6d7ec-721b-4a4e-c1f4-fff73340f7c7"
      },
      "source": [
        "X.shape"
      ],
      "execution_count": 11,
      "outputs": [
        {
          "output_type": "execute_result",
          "data": {
            "text/plain": [
              "(2, 3)"
            ]
          },
          "metadata": {
            "tags": []
          },
          "execution_count": 11
        }
      ]
    },
    {
      "cell_type": "code",
      "metadata": {
        "colab": {
          "base_uri": "https://localhost:8080/"
        },
        "id": "F1pwQYNKQLgp",
        "outputId": "048c4912-d449-4a14-c173-e89aa53bab37"
      },
      "source": [
        "X[0, 0]"
      ],
      "execution_count": 12,
      "outputs": [
        {
          "output_type": "execute_result",
          "data": {
            "text/plain": [
              "1"
            ]
          },
          "metadata": {
            "tags": []
          },
          "execution_count": 12
        }
      ]
    },
    {
      "cell_type": "code",
      "metadata": {
        "colab": {
          "base_uri": "https://localhost:8080/"
        },
        "id": "fs16pNRAQU2X",
        "outputId": "f60c9ebd-ed0e-4505-a113-f72db0cbce1e"
      },
      "source": [
        "X[0, :2]"
      ],
      "execution_count": 13,
      "outputs": [
        {
          "output_type": "execute_result",
          "data": {
            "text/plain": [
              "array([1, 2])"
            ]
          },
          "metadata": {
            "tags": []
          },
          "execution_count": 13
        }
      ]
    },
    {
      "cell_type": "code",
      "metadata": {
        "colab": {
          "base_uri": "https://localhost:8080/"
        },
        "id": "resovQQHQe4P",
        "outputId": "50202387-d1a1-4e3f-cb9f-69633f499595"
      },
      "source": [
        "X[0, :]"
      ],
      "execution_count": 14,
      "outputs": [
        {
          "output_type": "execute_result",
          "data": {
            "text/plain": [
              "array([1, 2, 3])"
            ]
          },
          "metadata": {
            "tags": []
          },
          "execution_count": 14
        }
      ]
    },
    {
      "cell_type": "code",
      "metadata": {
        "id": "CjhwnT9JQhG3"
      },
      "source": [
        "X = np.zeros((4, 5))"
      ],
      "execution_count": 15,
      "outputs": []
    },
    {
      "cell_type": "code",
      "metadata": {
        "colab": {
          "base_uri": "https://localhost:8080/"
        },
        "id": "EbllYrjNQk2X",
        "outputId": "a975030e-d926-47f9-d704-c4b597dcceef"
      },
      "source": [
        "X"
      ],
      "execution_count": 16,
      "outputs": [
        {
          "output_type": "execute_result",
          "data": {
            "text/plain": [
              "array([[0., 0., 0., 0., 0.],\n",
              "       [0., 0., 0., 0., 0.],\n",
              "       [0., 0., 0., 0., 0.],\n",
              "       [0., 0., 0., 0., 0.]])"
            ]
          },
          "metadata": {
            "tags": []
          },
          "execution_count": 16
        }
      ]
    },
    {
      "cell_type": "code",
      "metadata": {
        "id": "Io9GiR09Qltp"
      },
      "source": [
        "X = np.eye(4,4)"
      ],
      "execution_count": 19,
      "outputs": []
    },
    {
      "cell_type": "code",
      "metadata": {
        "colab": {
          "base_uri": "https://localhost:8080/"
        },
        "id": "_ihI5TSTRDmY",
        "outputId": "45f1f58d-0523-44f0-b5cb-ac039b1ab8a8"
      },
      "source": [
        "X"
      ],
      "execution_count": 20,
      "outputs": [
        {
          "output_type": "execute_result",
          "data": {
            "text/plain": [
              "array([[1., 0., 0., 0.],\n",
              "       [0., 1., 0., 0.],\n",
              "       [0., 0., 1., 0.],\n",
              "       [0., 0., 0., 1.]])"
            ]
          },
          "metadata": {
            "tags": []
          },
          "execution_count": 20
        }
      ]
    },
    {
      "cell_type": "code",
      "metadata": {
        "id": "pUlmtPbfREb_"
      },
      "source": [
        "X = np.random.random((4,5))"
      ],
      "execution_count": 21,
      "outputs": []
    },
    {
      "cell_type": "code",
      "metadata": {
        "colab": {
          "base_uri": "https://localhost:8080/"
        },
        "id": "3CanL7NtRNSo",
        "outputId": "5fbd0b62-8590-4703-8f0f-f7062871566d"
      },
      "source": [
        "X"
      ],
      "execution_count": 22,
      "outputs": [
        {
          "output_type": "execute_result",
          "data": {
            "text/plain": [
              "array([[0.5301658 , 0.24587974, 0.24757662, 0.72389629, 0.31839919],\n",
              "       [0.94178106, 0.78158392, 0.90511581, 0.86869037, 0.78689206],\n",
              "       [0.09441779, 0.61635912, 0.0259153 , 0.70455764, 0.46221388],\n",
              "       [0.16126543, 0.76201547, 0.29285617, 0.17247407, 0.18386954]])"
            ]
          },
          "metadata": {
            "tags": []
          },
          "execution_count": 22
        }
      ]
    },
    {
      "cell_type": "code",
      "metadata": {
        "id": "sn4PBfcSRNsn"
      },
      "source": [
        "Z = X.T"
      ],
      "execution_count": 23,
      "outputs": []
    },
    {
      "cell_type": "code",
      "metadata": {
        "colab": {
          "base_uri": "https://localhost:8080/"
        },
        "id": "NnMZuT0TRVoP",
        "outputId": "bbaec3f2-c5ee-4238-c02b-1cda808fa94b"
      },
      "source": [
        "Z"
      ],
      "execution_count": 24,
      "outputs": [
        {
          "output_type": "execute_result",
          "data": {
            "text/plain": [
              "array([[0.5301658 , 0.94178106, 0.09441779, 0.16126543],\n",
              "       [0.24587974, 0.78158392, 0.61635912, 0.76201547],\n",
              "       [0.24757662, 0.90511581, 0.0259153 , 0.29285617],\n",
              "       [0.72389629, 0.86869037, 0.70455764, 0.17247407],\n",
              "       [0.31839919, 0.78689206, 0.46221388, 0.18386954]])"
            ]
          },
          "metadata": {
            "tags": []
          },
          "execution_count": 24
        }
      ]
    },
    {
      "cell_type": "code",
      "metadata": {
        "id": "FB_ewQoGRWnn"
      },
      "source": [
        "Y = X.reshape(20,1)"
      ],
      "execution_count": 25,
      "outputs": []
    },
    {
      "cell_type": "code",
      "metadata": {
        "colab": {
          "base_uri": "https://localhost:8080/"
        },
        "id": "b2cvXUqSRetX",
        "outputId": "18d90abb-dd9e-400e-8c53-27d7d4c3f429"
      },
      "source": [
        "Y"
      ],
      "execution_count": 26,
      "outputs": [
        {
          "output_type": "execute_result",
          "data": {
            "text/plain": [
              "array([[0.5301658 ],\n",
              "       [0.24587974],\n",
              "       [0.24757662],\n",
              "       [0.72389629],\n",
              "       [0.31839919],\n",
              "       [0.94178106],\n",
              "       [0.78158392],\n",
              "       [0.90511581],\n",
              "       [0.86869037],\n",
              "       [0.78689206],\n",
              "       [0.09441779],\n",
              "       [0.61635912],\n",
              "       [0.0259153 ],\n",
              "       [0.70455764],\n",
              "       [0.46221388],\n",
              "       [0.16126543],\n",
              "       [0.76201547],\n",
              "       [0.29285617],\n",
              "       [0.17247407],\n",
              "       [0.18386954]])"
            ]
          },
          "metadata": {
            "tags": []
          },
          "execution_count": 26
        }
      ]
    },
    {
      "cell_type": "code",
      "metadata": {
        "colab": {
          "base_uri": "https://localhost:8080/"
        },
        "id": "RwcXj95YRfM3",
        "outputId": "d99b8cc8-2b87-4a44-9642-530d04336db1"
      },
      "source": [
        "A = np.arange(5)\r\n",
        "A"
      ],
      "execution_count": 27,
      "outputs": [
        {
          "output_type": "execute_result",
          "data": {
            "text/plain": [
              "array([0, 1, 2, 3, 4])"
            ]
          },
          "metadata": {
            "tags": []
          },
          "execution_count": 27
        }
      ]
    },
    {
      "cell_type": "code",
      "metadata": {
        "colab": {
          "base_uri": "https://localhost:8080/"
        },
        "id": "YMU_jwprRoEg",
        "outputId": "3886cc8e-0b4b-4bc7-db8c-d5e82db75b76"
      },
      "source": [
        "B = np.arange(5)\r\n",
        "B"
      ],
      "execution_count": 28,
      "outputs": [
        {
          "output_type": "execute_result",
          "data": {
            "text/plain": [
              "array([0, 1, 2, 3, 4])"
            ]
          },
          "metadata": {
            "tags": []
          },
          "execution_count": 28
        }
      ]
    },
    {
      "cell_type": "code",
      "metadata": {
        "id": "LDBFBBbbRuQ4"
      },
      "source": [
        "C = A + B\r\n",
        "D = A - B\r\n",
        "E = A * B"
      ],
      "execution_count": 29,
      "outputs": []
    },
    {
      "cell_type": "code",
      "metadata": {
        "colab": {
          "base_uri": "https://localhost:8080/"
        },
        "id": "YFUkcjg4Rx6w",
        "outputId": "d863daf6-894a-4d3f-9014-5df7bab0aca0"
      },
      "source": [
        "C"
      ],
      "execution_count": 30,
      "outputs": [
        {
          "output_type": "execute_result",
          "data": {
            "text/plain": [
              "array([0, 2, 4, 6, 8])"
            ]
          },
          "metadata": {
            "tags": []
          },
          "execution_count": 30
        }
      ]
    },
    {
      "cell_type": "code",
      "metadata": {
        "colab": {
          "base_uri": "https://localhost:8080/"
        },
        "id": "RxuFcplFRy04",
        "outputId": "453efd6e-f19e-4c6f-f50e-81d33602b63d"
      },
      "source": [
        "D"
      ],
      "execution_count": 31,
      "outputs": [
        {
          "output_type": "execute_result",
          "data": {
            "text/plain": [
              "array([0, 0, 0, 0, 0])"
            ]
          },
          "metadata": {
            "tags": []
          },
          "execution_count": 31
        }
      ]
    },
    {
      "cell_type": "code",
      "metadata": {
        "colab": {
          "base_uri": "https://localhost:8080/"
        },
        "id": "OBAfhnm2R0jX",
        "outputId": "98280cc6-6611-4c28-de65-c3c55b4f6be2"
      },
      "source": [
        "E"
      ],
      "execution_count": 32,
      "outputs": [
        {
          "output_type": "execute_result",
          "data": {
            "text/plain": [
              "array([ 0,  1,  4,  9, 16])"
            ]
          },
          "metadata": {
            "tags": []
          },
          "execution_count": 32
        }
      ]
    },
    {
      "cell_type": "code",
      "metadata": {
        "colab": {
          "base_uri": "https://localhost:8080/"
        },
        "id": "PzltZFORR1eP",
        "outputId": "fb3872db-f893-4706-ac4c-a366783c301a"
      },
      "source": [
        "print(A, A+1)"
      ],
      "execution_count": 33,
      "outputs": [
        {
          "output_type": "stream",
          "text": [
            "[0 1 2 3 4] [1 2 3 4 5]\n"
          ],
          "name": "stdout"
        }
      ]
    },
    {
      "cell_type": "code",
      "metadata": {
        "colab": {
          "base_uri": "https://localhost:8080/"
        },
        "id": "_iyVLdNJR-Og",
        "outputId": "b5e0e16d-9c28-42e2-a249-95137233c0f4"
      },
      "source": [
        "A = np.random.random((2,3))\r\n",
        "print(A)\r\n",
        "print(A+1)"
      ],
      "execution_count": 35,
      "outputs": [
        {
          "output_type": "stream",
          "text": [
            "[[0.11597272 0.29100979 0.98951072]\n",
            " [0.02744814 0.50126579 0.18971036]]\n",
            "[[1.11597272 1.29100979 1.98951072]\n",
            " [1.02744814 1.50126579 1.18971036]]\n"
          ],
          "name": "stdout"
        }
      ]
    },
    {
      "cell_type": "code",
      "metadata": {
        "colab": {
          "base_uri": "https://localhost:8080/"
        },
        "id": "VwJrWRobSJOg",
        "outputId": "67ffa136-357c-4d23-ac3d-d6eeef737b5e"
      },
      "source": [
        "A = np.floor(np.random.random((2,3)) * 10)\r\n",
        "A"
      ],
      "execution_count": 36,
      "outputs": [
        {
          "output_type": "execute_result",
          "data": {
            "text/plain": [
              "array([[6., 7., 1.],\n",
              "       [8., 9., 4.]])"
            ]
          },
          "metadata": {
            "tags": []
          },
          "execution_count": 36
        }
      ]
    },
    {
      "cell_type": "code",
      "metadata": {
        "colab": {
          "base_uri": "https://localhost:8080/"
        },
        "id": "2yroeBfvSTv-",
        "outputId": "3f9da6bb-9700-41da-9c0a-6f295f220dfc"
      },
      "source": [
        "u = [1, 2, 3,]\r\n",
        "v = [-1, 0, 1]\r\n",
        "pl = np.inner(u, v)\r\n",
        "print(pl)"
      ],
      "execution_count": 37,
      "outputs": [
        {
          "output_type": "stream",
          "text": [
            "2\n"
          ],
          "name": "stdout"
        }
      ]
    },
    {
      "cell_type": "code",
      "metadata": {
        "colab": {
          "base_uri": "https://localhost:8080/"
        },
        "id": "KshsyAErSe-A",
        "outputId": "b2ac64c0-e819-4187-a4cf-c8be110ded34"
      },
      "source": [
        "p2 = np.outer(u, v)\r\n",
        "p2"
      ],
      "execution_count": 38,
      "outputs": [
        {
          "output_type": "execute_result",
          "data": {
            "text/plain": [
              "array([[-1,  0,  1],\n",
              "       [-2,  0,  2],\n",
              "       [-3,  0,  3]])"
            ]
          },
          "metadata": {
            "tags": []
          },
          "execution_count": 38
        }
      ]
    },
    {
      "cell_type": "code",
      "metadata": {
        "colab": {
          "base_uri": "https://localhost:8080/"
        },
        "id": "nvJsu-rnSkZ4",
        "outputId": "bd98f99e-d086-45e2-c858-a6b1d087c388"
      },
      "source": [
        "A = np.ones((2,3))\r\n",
        "B = np.ones((3,2))\r\n",
        "\r\n",
        "np.dot(A, B)"
      ],
      "execution_count": 39,
      "outputs": [
        {
          "output_type": "execute_result",
          "data": {
            "text/plain": [
              "array([[3., 3.],\n",
              "       [3., 3.]])"
            ]
          },
          "metadata": {
            "tags": []
          },
          "execution_count": 39
        }
      ]
    },
    {
      "cell_type": "code",
      "metadata": {
        "colab": {
          "base_uri": "https://localhost:8080/"
        },
        "id": "epnsOXynSvGR",
        "outputId": "6060bb11-5723-4bf3-e5c6-88918474edc0"
      },
      "source": [
        "np.dot(B.T, A.T)"
      ],
      "execution_count": 40,
      "outputs": [
        {
          "output_type": "execute_result",
          "data": {
            "text/plain": [
              "array([[3., 3.],\n",
              "       [3., 3.]])"
            ]
          },
          "metadata": {
            "tags": []
          },
          "execution_count": 40
        }
      ]
    },
    {
      "cell_type": "code",
      "metadata": {
        "colab": {
          "base_uri": "https://localhost:8080/"
        },
        "id": "tI9tYP2ASyeA",
        "outputId": "8de5857b-1804-448d-cca9-83c72f37af2d"
      },
      "source": [
        "A.sum()"
      ],
      "execution_count": 41,
      "outputs": [
        {
          "output_type": "execute_result",
          "data": {
            "text/plain": [
              "6.0"
            ]
          },
          "metadata": {
            "tags": []
          },
          "execution_count": 41
        }
      ]
    },
    {
      "cell_type": "code",
      "metadata": {
        "colab": {
          "base_uri": "https://localhost:8080/"
        },
        "id": "cC9AGihAS0HB",
        "outputId": "f9365373-3c31-4655-b7ca-a542a811b657"
      },
      "source": [
        "A.sum( axis = 0)"
      ],
      "execution_count": 42,
      "outputs": [
        {
          "output_type": "execute_result",
          "data": {
            "text/plain": [
              "array([2., 2., 2.])"
            ]
          },
          "metadata": {
            "tags": []
          },
          "execution_count": 42
        }
      ]
    },
    {
      "cell_type": "code",
      "metadata": {
        "colab": {
          "base_uri": "https://localhost:8080/"
        },
        "id": "3rpu96etS4UI",
        "outputId": "faa88052-1dba-4382-b84b-293986d61748"
      },
      "source": [
        "A.sum( axis = 1)"
      ],
      "execution_count": 43,
      "outputs": [
        {
          "output_type": "execute_result",
          "data": {
            "text/plain": [
              "array([3., 3.])"
            ]
          },
          "metadata": {
            "tags": []
          },
          "execution_count": 43
        }
      ]
    },
    {
      "cell_type": "code",
      "metadata": {
        "colab": {
          "base_uri": "https://localhost:8080/"
        },
        "id": "T0DoLnx4S8Do",
        "outputId": "61862d69-e048-4aee-9c55-40f8b72f86b1"
      },
      "source": [
        "A.max()"
      ],
      "execution_count": 44,
      "outputs": [
        {
          "output_type": "execute_result",
          "data": {
            "text/plain": [
              "1.0"
            ]
          },
          "metadata": {
            "tags": []
          },
          "execution_count": 44
        }
      ]
    },
    {
      "cell_type": "code",
      "metadata": {
        "id": "MPo-73ExS9zv"
      },
      "source": [
        ""
      ],
      "execution_count": null,
      "outputs": []
    },
    {
      "cell_type": "code",
      "metadata": {
        "id": "6NOjzeG2SDcA"
      },
      "source": [
        ""
      ],
      "execution_count": null,
      "outputs": []
    }
  ]
}