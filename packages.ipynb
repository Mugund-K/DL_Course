{
  "nbformat": 4,
  "nbformat_minor": 0,
  "metadata": {
    "colab": {
      "name": "packages.ipynb",
      "provenance": [],
      "collapsed_sections": [],
      "authorship_tag": "ABX9TyMNc1cW1LzaSAbXPgU+rQgZ",
      "include_colab_link": true
    },
    "kernelspec": {
      "name": "python3",
      "display_name": "Python 3"
    }
  },
  "cells": [
    {
      "cell_type": "markdown",
      "metadata": {
        "id": "view-in-github",
        "colab_type": "text"
      },
      "source": [
        "<a href=\"https://colab.research.google.com/github/Mugund-K/DL_Course/blob/main/packages.ipynb\" target=\"_parent\"><img src=\"https://colab.research.google.com/assets/colab-badge.svg\" alt=\"Open In Colab\"/></a>"
      ]
    },
    {
      "cell_type": "code",
      "metadata": {
        "id": "EFDCxB6B5ibP"
      },
      "source": [
        "import math"
      ],
      "execution_count": 1,
      "outputs": []
    },
    {
      "cell_type": "code",
      "metadata": {
        "colab": {
          "base_uri": "https://localhost:8080/"
        },
        "id": "xEqMtGmQ5m0H",
        "outputId": "42f1736c-451c-428a-91e8-013f3325a58a"
      },
      "source": [
        "a = math.sqrt(100)\r\n",
        "a"
      ],
      "execution_count": 2,
      "outputs": [
        {
          "output_type": "execute_result",
          "data": {
            "text/plain": [
              "10.0"
            ]
          },
          "metadata": {
            "tags": []
          },
          "execution_count": 2
        }
      ]
    },
    {
      "cell_type": "code",
      "metadata": {
        "colab": {
          "base_uri": "https://localhost:8080/"
        },
        "id": "a2Y2Yk9g5pNO",
        "outputId": "037a7c70-2370-4c3b-f800-a5edef57cd6e"
      },
      "source": [
        "a = math.pow(100,10)\r\n",
        "a"
      ],
      "execution_count": 3,
      "outputs": [
        {
          "output_type": "execute_result",
          "data": {
            "text/plain": [
              "1e+20"
            ]
          },
          "metadata": {
            "tags": []
          },
          "execution_count": 3
        }
      ]
    },
    {
      "cell_type": "code",
      "metadata": {
        "colab": {
          "base_uri": "https://localhost:8080/"
        },
        "id": "e3Tm3x_x55AP",
        "outputId": "6828c6dd-ddd0-43f5-8f6e-54cbc6c8807b"
      },
      "source": [
        "x=100\r\n",
        "y=1\r\n",
        "for i in range(1,x):\r\n",
        "  y *= i\r\n",
        "print('Factorial of ' , x, ' is ', y)"
      ],
      "execution_count": 4,
      "outputs": [
        {
          "output_type": "stream",
          "text": [
            "Factorial of  100  is  933262154439441526816992388562667004907159682643816214685929638952175999932299156089414639761565182862536979208272237582511852109168640000000000000000000000\n"
          ],
          "name": "stdout"
        }
      ]
    },
    {
      "cell_type": "code",
      "metadata": {
        "colab": {
          "base_uri": "https://localhost:8080/"
        },
        "id": "hOrsHiao6Lne",
        "outputId": "69aa4de5-6cbd-48fc-b76f-fe0e85e98011"
      },
      "source": [
        "import math as m\r\n",
        "y=m.factorial(x)\r\n",
        "y"
      ],
      "execution_count": 5,
      "outputs": [
        {
          "output_type": "execute_result",
          "data": {
            "text/plain": [
              "93326215443944152681699238856266700490715968264381621468592963895217599993229915608941463976156518286253697920827223758251185210916864000000000000000000000000"
            ]
          },
          "metadata": {
            "tags": []
          },
          "execution_count": 5
        }
      ]
    },
    {
      "cell_type": "code",
      "metadata": {
        "colab": {
          "base_uri": "https://localhost:8080/"
        },
        "id": "PNEL_IK_6UOe",
        "outputId": "ac57c8f9-ba69-43d9-94db-b56b1c7af038"
      },
      "source": [
        "from math import factorial\r\n",
        "t= factorial(x)\r\n",
        "y"
      ],
      "execution_count": 7,
      "outputs": [
        {
          "output_type": "execute_result",
          "data": {
            "text/plain": [
              "93326215443944152681699238856266700490715968264381621468592963895217599993229915608941463976156518286253697920827223758251185210916864000000000000000000000000"
            ]
          },
          "metadata": {
            "tags": []
          },
          "execution_count": 7
        }
      ]
    },
    {
      "cell_type": "code",
      "metadata": {
        "id": "GmPXI_pK6cVv"
      },
      "source": [
        "#time Comparison between our code and standard library"
      ],
      "execution_count": null,
      "outputs": []
    },
    {
      "cell_type": "code",
      "metadata": {
        "colab": {
          "base_uri": "https://localhost:8080/"
        },
        "id": "dTwya9lS6aMu",
        "outputId": "eb7f6201-9264-44a7-aa3d-6fb2ca57e78e"
      },
      "source": [
        "import time\r\n",
        "vals = list(range(1,100))\r\n",
        "tic = time.time()\r\n",
        "for x in vals:\r\n",
        "  y = 1\r\n",
        "  for i in range(1,x):\r\n",
        "    y *= i\r\n",
        "toc = time.time()\r\n",
        "print('Elasped time in secs with own function', toc - tic)\r\n",
        "\r\n",
        "tic = time.time()\r\n",
        "for x in vals:\r\n",
        "  y = math.factorial(x)\r\n",
        "toc = time.time()\r\n",
        "print('Elasped time in secs with standard library function', toc - tic)\r\n",
        "\r\n"
      ],
      "execution_count": 9,
      "outputs": [
        {
          "output_type": "stream",
          "text": [
            "Elasped time in secs with own function 0.0006663799285888672\n",
            "Elasped time in secs with standard library function 0.00013113021850585938\n"
          ],
          "name": "stdout"
        }
      ]
    },
    {
      "cell_type": "code",
      "metadata": {
        "id": "iz77LLl18CEY"
      },
      "source": [
        "!echo 'def hello():' > my_first_module.py\r\n",
        "!echo '   print(\"hello, im living in different file\" )' >> my_first_module.py"
      ],
      "execution_count": 16,
      "outputs": []
    },
    {
      "cell_type": "code",
      "metadata": {
        "colab": {
          "base_uri": "https://localhost:8080/"
        },
        "id": "Vivo_54Q8j3s",
        "outputId": "6ca27fa0-106d-4215-ee05-9c52cfdfb45d"
      },
      "source": [
        "!cat my_first_module.py"
      ],
      "execution_count": 17,
      "outputs": [
        {
          "output_type": "stream",
          "text": [
            "def hello():\n",
            "   print(\"hello, im living in different file\" )\n"
          ],
          "name": "stdout"
        }
      ]
    },
    {
      "cell_type": "code",
      "metadata": {
        "id": "O6FGgYIG8pSP"
      },
      "source": [
        "import my_first_module"
      ],
      "execution_count": 18,
      "outputs": []
    },
    {
      "cell_type": "code",
      "metadata": {
        "colab": {
          "base_uri": "https://localhost:8080/"
        },
        "id": "RfAk5TcD9SNn",
        "outputId": "b2e5dd77-dd7a-4775-be9a-8fca4a1434cd"
      },
      "source": [
        "my_first_module.hello()"
      ],
      "execution_count": 19,
      "outputs": [
        {
          "output_type": "stream",
          "text": [
            "hello, im living in different file\n"
          ],
          "name": "stdout"
        }
      ]
    },
    {
      "cell_type": "code",
      "metadata": {
        "colab": {
          "base_uri": "https://localhost:8080/"
        },
        "id": "0O4sD53M9Uzw",
        "outputId": "08c651a7-298a-450e-ca8f-fda9701c5374"
      },
      "source": [
        "from my_first_module import hello\r\n",
        "hello()"
      ],
      "execution_count": 21,
      "outputs": [
        {
          "output_type": "stream",
          "text": [
            "hello, im living in different file\n"
          ],
          "name": "stdout"
        }
      ]
    },
    {
      "cell_type": "code",
      "metadata": {
        "id": "i6zQWQAU9bIP"
      },
      "source": [
        ""
      ],
      "execution_count": null,
      "outputs": []
    },
    {
      "cell_type": "code",
      "metadata": {
        "id": "1j7WH3HB9ZoH"
      },
      "source": [
        ""
      ],
      "execution_count": null,
      "outputs": []
    },
    {
      "cell_type": "code",
      "metadata": {
        "id": "sBBzL2-X76mw"
      },
      "source": [
        ""
      ],
      "execution_count": null,
      "outputs": []
    }
  ]
}