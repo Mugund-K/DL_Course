{
  "nbformat": 4,
  "nbformat_minor": 0,
  "metadata": {
    "colab": {
      "name": "class.ipynb",
      "provenance": [],
      "authorship_tag": "ABX9TyNrUTFOX2dTSKn5K49I7/dh",
      "include_colab_link": true
    },
    "kernelspec": {
      "name": "python3",
      "display_name": "Python 3"
    }
  },
  "cells": [
    {
      "cell_type": "markdown",
      "metadata": {
        "id": "view-in-github",
        "colab_type": "text"
      },
      "source": [
        "<a href=\"https://colab.research.google.com/github/Mugund-K/DL_Course/blob/main/class.ipynb\" target=\"_parent\"><img src=\"https://colab.research.google.com/assets/colab-badge.svg\" alt=\"Open In Colab\"/></a>"
      ]
    },
    {
      "cell_type": "code",
      "metadata": {
        "id": "PZt_VLNkHThR"
      },
      "source": [
        "class MobilePhone:\r\n",
        "  pass"
      ],
      "execution_count": 5,
      "outputs": []
    },
    {
      "cell_type": "code",
      "metadata": {
        "id": "xCDCXqK1HYO6"
      },
      "source": [
        "new_phone=MobilePhone()"
      ],
      "execution_count": 6,
      "outputs": []
    },
    {
      "cell_type": "code",
      "metadata": {
        "colab": {
          "base_uri": "https://localhost:8080/"
        },
        "id": "tQpUx-v2HcC3",
        "outputId": "03d15038-9dee-4245-a7bf-c3d029740f6f"
      },
      "source": [
        "type(new_phone)"
      ],
      "execution_count": 7,
      "outputs": [
        {
          "output_type": "execute_result",
          "data": {
            "text/plain": [
              "__main__.MobilePhone"
            ]
          },
          "metadata": {
            "tags": []
          },
          "execution_count": 7
        }
      ]
    },
    {
      "cell_type": "code",
      "metadata": {
        "id": "OUSr7KUaHdw3"
      },
      "source": [
        "class MobilePhone:\r\n",
        "  def __init__(self, name):\r\n",
        "    self.name = name\r\n",
        "\r\n"
      ],
      "execution_count": 8,
      "outputs": []
    },
    {
      "cell_type": "code",
      "metadata": {
        "id": "8HXu-ghvHyDI"
      },
      "source": [
        "new_phone = MobilePhone('iPhone 4s')"
      ],
      "execution_count": 9,
      "outputs": []
    },
    {
      "cell_type": "code",
      "metadata": {
        "colab": {
          "base_uri": "https://localhost:8080/"
        },
        "id": "9HEli_IAH2BX",
        "outputId": "8772a62e-66c4-4f81-a2fc-de68ef025e84"
      },
      "source": [
        "type(new_phone)"
      ],
      "execution_count": 10,
      "outputs": [
        {
          "output_type": "execute_result",
          "data": {
            "text/plain": [
              "__main__.MobilePhone"
            ]
          },
          "metadata": {
            "tags": []
          },
          "execution_count": 10
        }
      ]
    },
    {
      "cell_type": "code",
      "metadata": {
        "id": "Z9flnmEmH3p4"
      },
      "source": [
        "class MobilePhone:\r\n",
        "  def __init__(self, name, is_android = False, screen_size = 4.3):\r\n",
        "    self.name = name\r\n",
        "    self.is_android = is_android\r\n",
        "    self.screen_size = screen_size"
      ],
      "execution_count": 11,
      "outputs": []
    },
    {
      "cell_type": "code",
      "metadata": {
        "id": "KZeGmmTXIKbX"
      },
      "source": [
        "new_phone = MobilePhone('iPhone 4s')"
      ],
      "execution_count": 12,
      "outputs": []
    },
    {
      "cell_type": "code",
      "metadata": {
        "colab": {
          "base_uri": "https://localhost:8080/",
          "height": 35
        },
        "id": "4HZftLfoILzu",
        "outputId": "c3b75551-f3a7-466c-d771-f0f0a97c0c45"
      },
      "source": [
        "new_phone.name"
      ],
      "execution_count": 13,
      "outputs": [
        {
          "output_type": "execute_result",
          "data": {
            "application/vnd.google.colaboratory.intrinsic+json": {
              "type": "string"
            },
            "text/plain": [
              "'iPhone 4s'"
            ]
          },
          "metadata": {
            "tags": []
          },
          "execution_count": 13
        }
      ]
    },
    {
      "cell_type": "code",
      "metadata": {
        "colab": {
          "base_uri": "https://localhost:8080/"
        },
        "id": "eNykJolDINB2",
        "outputId": "91eb5a03-ca18-446e-fead-1213acb49a2a"
      },
      "source": [
        "new_phone.is_android"
      ],
      "execution_count": 14,
      "outputs": [
        {
          "output_type": "execute_result",
          "data": {
            "text/plain": [
              "False"
            ]
          },
          "metadata": {
            "tags": []
          },
          "execution_count": 14
        }
      ]
    },
    {
      "cell_type": "code",
      "metadata": {
        "id": "Dn_eXtUiIOxe"
      },
      "source": [
        "class MobilePhone:\r\n",
        "  \"\"\" This is how python class work\"\"\"\r\n",
        "  def __init__(self, name, is_android = False, screen_size = 4.3):\r\n",
        "    self.name = name\r\n",
        "    self.is_android = is_android\r\n",
        "    self.screen_size = screen_size\r\n",
        "    self.rating = -1\r\n",
        "  \r\n",
        "  def has_rating(self):\r\n",
        "    return self.rating > -1"
      ],
      "execution_count": 24,
      "outputs": []
    },
    {
      "cell_type": "code",
      "metadata": {
        "id": "ARX9xDjmIh_g"
      },
      "source": [
        "new_phone = MobilePhone('iPhone 4s')"
      ],
      "execution_count": 25,
      "outputs": []
    },
    {
      "cell_type": "code",
      "metadata": {
        "colab": {
          "base_uri": "https://localhost:8080/"
        },
        "id": "Mc1962ZjIj2G",
        "outputId": "e370ee01-083d-45aa-ccbb-b7e68c651aaa"
      },
      "source": [
        "new_phone.has_rating()"
      ],
      "execution_count": 23,
      "outputs": [
        {
          "output_type": "execute_result",
          "data": {
            "text/plain": [
              "False"
            ]
          },
          "metadata": {
            "tags": []
          },
          "execution_count": 23
        }
      ]
    },
    {
      "cell_type": "code",
      "metadata": {
        "colab": {
          "base_uri": "https://localhost:8080/",
          "height": 35
        },
        "id": "i-qQYGiBImlO",
        "outputId": "6bab7493-dc06-442d-ca6e-80e04b6f8398"
      },
      "source": [
        "new_phone.__doc__"
      ],
      "execution_count": 26,
      "outputs": [
        {
          "output_type": "execute_result",
          "data": {
            "application/vnd.google.colaboratory.intrinsic+json": {
              "type": "string"
            },
            "text/plain": [
              "' This is how python class work'"
            ]
          },
          "metadata": {
            "tags": []
          },
          "execution_count": 26
        }
      ]
    },
    {
      "cell_type": "code",
      "metadata": {
        "id": "kdqahrV_I7p_"
      },
      "source": [
        "#Inheritance\r\n",
        "class iPhone(MobilePhone):\r\n",
        "  def __init__(self, name):\r\n",
        "    MobilePhone.__init__(self, name, False, 4)\r\n",
        "  \r\n",
        "  def __str__(self):\r\n",
        "    return self.name + \" \" + str(self.is_android) + \" \" + str(self.screen_size)"
      ],
      "execution_count": 31,
      "outputs": []
    },
    {
      "cell_type": "code",
      "metadata": {
        "id": "-xKFTsXCJJAO"
      },
      "source": [
        "new_iphone = iPhone('i Phone 5s')"
      ],
      "execution_count": 32,
      "outputs": []
    },
    {
      "cell_type": "code",
      "metadata": {
        "colab": {
          "base_uri": "https://localhost:8080/"
        },
        "id": "RanfeAfPJVnH",
        "outputId": "35adaa92-35d8-4fb0-9acd-1961f4f4f8cd"
      },
      "source": [
        "new_iphone.is_android"
      ],
      "execution_count": 30,
      "outputs": [
        {
          "output_type": "execute_result",
          "data": {
            "text/plain": [
              "False"
            ]
          },
          "metadata": {
            "tags": []
          },
          "execution_count": 30
        }
      ]
    },
    {
      "cell_type": "code",
      "metadata": {
        "colab": {
          "base_uri": "https://localhost:8080/"
        },
        "id": "XR2ZrhBtJXM_",
        "outputId": "42caf42a-3f32-4649-ed96-498343694133"
      },
      "source": [
        "print(new_iphone)"
      ],
      "execution_count": 33,
      "outputs": [
        {
          "output_type": "stream",
          "text": [
            "i Phone 5s False 4\n"
          ],
          "name": "stdout"
        }
      ]
    },
    {
      "cell_type": "code",
      "metadata": {
        "id": "YO_LpXcWJrm2"
      },
      "source": [
        ""
      ],
      "execution_count": null,
      "outputs": []
    }
  ]
}